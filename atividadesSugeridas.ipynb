{
 "cells": [
  {
   "cell_type": "markdown",
   "id": "8fa1aa11",
   "metadata": {},
   "source": [
    "# Implementação do KNN com Numpy + Classificação Binária (sem normalização)"
   ]
  },
  {
   "cell_type": "code",
   "execution_count": 1,
   "id": "1aa5f4de",
   "metadata": {},
   "outputs": [],
   "source": [
    "#Imports\n",
    "import numpy as np\n",
    "import pandas as pd\n",
    "import seaborn as sns\n",
    "import matplotlib.pyplot as plt\n",
    "from sklearn.model_selection import train_test_split\n",
    "from sklearn.ensemble import RandomForestClassifier\n",
    "from sklearn.metrics import accuracy_score"
   ]
  },
  {
   "cell_type": "code",
   "execution_count": 2,
   "id": "73b09b89",
   "metadata": {},
   "outputs": [
    {
     "data": {
      "text/html": [
       "<div>\n",
       "<style scoped>\n",
       "    .dataframe tbody tr th:only-of-type {\n",
       "        vertical-align: middle;\n",
       "    }\n",
       "\n",
       "    .dataframe tbody tr th {\n",
       "        vertical-align: top;\n",
       "    }\n",
       "\n",
       "    .dataframe thead th {\n",
       "        text-align: right;\n",
       "    }\n",
       "</style>\n",
       "<table border=\"1\" class=\"dataframe\">\n",
       "  <thead>\n",
       "    <tr style=\"text-align: right;\">\n",
       "      <th></th>\n",
       "      <th>Unnamed: 0</th>\n",
       "      <th>fixed acidity</th>\n",
       "      <th>volatile acidity</th>\n",
       "      <th>citric acid</th>\n",
       "      <th>residual sugar</th>\n",
       "      <th>chlorides</th>\n",
       "      <th>free sulfur dioxide</th>\n",
       "      <th>total sulfur dioxide</th>\n",
       "      <th>density</th>\n",
       "      <th>pH</th>\n",
       "      <th>sulphates</th>\n",
       "      <th>alcohol</th>\n",
       "      <th>quality</th>\n",
       "      <th>wine_is_red</th>\n",
       "    </tr>\n",
       "  </thead>\n",
       "  <tbody>\n",
       "    <tr>\n",
       "      <th>0</th>\n",
       "      <td>0</td>\n",
       "      <td>5.9</td>\n",
       "      <td>0.61</td>\n",
       "      <td>0.08</td>\n",
       "      <td>2.1</td>\n",
       "      <td>0.071</td>\n",
       "      <td>16.0</td>\n",
       "      <td>24.0</td>\n",
       "      <td>0.99376</td>\n",
       "      <td>3.56</td>\n",
       "      <td>0.77</td>\n",
       "      <td>11.1</td>\n",
       "      <td>6</td>\n",
       "      <td>1</td>\n",
       "    </tr>\n",
       "    <tr>\n",
       "      <th>1</th>\n",
       "      <td>1</td>\n",
       "      <td>8.2</td>\n",
       "      <td>1.00</td>\n",
       "      <td>0.09</td>\n",
       "      <td>2.3</td>\n",
       "      <td>0.065</td>\n",
       "      <td>7.0</td>\n",
       "      <td>37.0</td>\n",
       "      <td>0.99685</td>\n",
       "      <td>3.32</td>\n",
       "      <td>0.55</td>\n",
       "      <td>9.0</td>\n",
       "      <td>6</td>\n",
       "      <td>1</td>\n",
       "    </tr>\n",
       "    <tr>\n",
       "      <th>2</th>\n",
       "      <td>2</td>\n",
       "      <td>6.4</td>\n",
       "      <td>0.24</td>\n",
       "      <td>0.49</td>\n",
       "      <td>5.8</td>\n",
       "      <td>0.053</td>\n",
       "      <td>25.0</td>\n",
       "      <td>120.0</td>\n",
       "      <td>0.99420</td>\n",
       "      <td>3.01</td>\n",
       "      <td>0.98</td>\n",
       "      <td>10.5</td>\n",
       "      <td>6</td>\n",
       "      <td>0</td>\n",
       "    </tr>\n",
       "    <tr>\n",
       "      <th>3</th>\n",
       "      <td>3</td>\n",
       "      <td>6.6</td>\n",
       "      <td>0.23</td>\n",
       "      <td>0.26</td>\n",
       "      <td>1.3</td>\n",
       "      <td>0.045</td>\n",
       "      <td>16.0</td>\n",
       "      <td>128.0</td>\n",
       "      <td>0.99340</td>\n",
       "      <td>3.36</td>\n",
       "      <td>0.60</td>\n",
       "      <td>10.0</td>\n",
       "      <td>6</td>\n",
       "      <td>0</td>\n",
       "    </tr>\n",
       "    <tr>\n",
       "      <th>4</th>\n",
       "      <td>4</td>\n",
       "      <td>7.2</td>\n",
       "      <td>0.24</td>\n",
       "      <td>0.29</td>\n",
       "      <td>3.0</td>\n",
       "      <td>0.036</td>\n",
       "      <td>17.0</td>\n",
       "      <td>117.0</td>\n",
       "      <td>0.99411</td>\n",
       "      <td>3.36</td>\n",
       "      <td>0.68</td>\n",
       "      <td>10.1</td>\n",
       "      <td>6</td>\n",
       "      <td>0</td>\n",
       "    </tr>\n",
       "  </tbody>\n",
       "</table>\n",
       "</div>"
      ],
      "text/plain": [
       "   Unnamed: 0  fixed acidity  volatile acidity  citric acid  residual sugar  \\\n",
       "0           0            5.9              0.61         0.08             2.1   \n",
       "1           1            8.2              1.00         0.09             2.3   \n",
       "2           2            6.4              0.24         0.49             5.8   \n",
       "3           3            6.6              0.23         0.26             1.3   \n",
       "4           4            7.2              0.24         0.29             3.0   \n",
       "\n",
       "   chlorides  free sulfur dioxide  total sulfur dioxide  density    pH  \\\n",
       "0      0.071                 16.0                  24.0  0.99376  3.56   \n",
       "1      0.065                  7.0                  37.0  0.99685  3.32   \n",
       "2      0.053                 25.0                 120.0  0.99420  3.01   \n",
       "3      0.045                 16.0                 128.0  0.99340  3.36   \n",
       "4      0.036                 17.0                 117.0  0.99411  3.36   \n",
       "\n",
       "   sulphates  alcohol  quality  wine_is_red  \n",
       "0       0.77     11.1        6            1  \n",
       "1       0.55      9.0        6            1  \n",
       "2       0.98     10.5        6            0  \n",
       "3       0.60     10.0        6            0  \n",
       "4       0.68     10.1        6            0  "
      ]
     },
     "execution_count": 2,
     "metadata": {},
     "output_type": "execute_result"
    }
   ],
   "source": [
    "#Lendo o dataframe:\n",
    "df = pd.read_csv('winequality.csv', sep = \",\")\n",
    "df.head()"
   ]
  },
  {
   "cell_type": "code",
   "execution_count": 3,
   "id": "5ca902cf",
   "metadata": {},
   "outputs": [
    {
     "data": {
      "text/html": [
       "<div>\n",
       "<style scoped>\n",
       "    .dataframe tbody tr th:only-of-type {\n",
       "        vertical-align: middle;\n",
       "    }\n",
       "\n",
       "    .dataframe tbody tr th {\n",
       "        vertical-align: top;\n",
       "    }\n",
       "\n",
       "    .dataframe thead th {\n",
       "        text-align: right;\n",
       "    }\n",
       "</style>\n",
       "<table border=\"1\" class=\"dataframe\">\n",
       "  <thead>\n",
       "    <tr style=\"text-align: right;\">\n",
       "      <th></th>\n",
       "      <th>fixed acidity</th>\n",
       "      <th>volatile acidity</th>\n",
       "      <th>citric acid</th>\n",
       "      <th>residual sugar</th>\n",
       "      <th>chlorides</th>\n",
       "      <th>free sulfur dioxide</th>\n",
       "      <th>total sulfur dioxide</th>\n",
       "      <th>density</th>\n",
       "      <th>pH</th>\n",
       "      <th>sulphates</th>\n",
       "      <th>alcohol</th>\n",
       "      <th>quality</th>\n",
       "      <th>wine_is_red</th>\n",
       "    </tr>\n",
       "  </thead>\n",
       "  <tbody>\n",
       "    <tr>\n",
       "      <th>0</th>\n",
       "      <td>5.9</td>\n",
       "      <td>0.61</td>\n",
       "      <td>0.08</td>\n",
       "      <td>2.1</td>\n",
       "      <td>0.071</td>\n",
       "      <td>16.0</td>\n",
       "      <td>24.0</td>\n",
       "      <td>0.99376</td>\n",
       "      <td>3.56</td>\n",
       "      <td>0.77</td>\n",
       "      <td>11.1</td>\n",
       "      <td>6</td>\n",
       "      <td>1</td>\n",
       "    </tr>\n",
       "    <tr>\n",
       "      <th>1</th>\n",
       "      <td>8.2</td>\n",
       "      <td>1.00</td>\n",
       "      <td>0.09</td>\n",
       "      <td>2.3</td>\n",
       "      <td>0.065</td>\n",
       "      <td>7.0</td>\n",
       "      <td>37.0</td>\n",
       "      <td>0.99685</td>\n",
       "      <td>3.32</td>\n",
       "      <td>0.55</td>\n",
       "      <td>9.0</td>\n",
       "      <td>6</td>\n",
       "      <td>1</td>\n",
       "    </tr>\n",
       "    <tr>\n",
       "      <th>2</th>\n",
       "      <td>6.4</td>\n",
       "      <td>0.24</td>\n",
       "      <td>0.49</td>\n",
       "      <td>5.8</td>\n",
       "      <td>0.053</td>\n",
       "      <td>25.0</td>\n",
       "      <td>120.0</td>\n",
       "      <td>0.99420</td>\n",
       "      <td>3.01</td>\n",
       "      <td>0.98</td>\n",
       "      <td>10.5</td>\n",
       "      <td>6</td>\n",
       "      <td>0</td>\n",
       "    </tr>\n",
       "    <tr>\n",
       "      <th>3</th>\n",
       "      <td>6.6</td>\n",
       "      <td>0.23</td>\n",
       "      <td>0.26</td>\n",
       "      <td>1.3</td>\n",
       "      <td>0.045</td>\n",
       "      <td>16.0</td>\n",
       "      <td>128.0</td>\n",
       "      <td>0.99340</td>\n",
       "      <td>3.36</td>\n",
       "      <td>0.60</td>\n",
       "      <td>10.0</td>\n",
       "      <td>6</td>\n",
       "      <td>0</td>\n",
       "    </tr>\n",
       "    <tr>\n",
       "      <th>4</th>\n",
       "      <td>7.2</td>\n",
       "      <td>0.24</td>\n",
       "      <td>0.29</td>\n",
       "      <td>3.0</td>\n",
       "      <td>0.036</td>\n",
       "      <td>17.0</td>\n",
       "      <td>117.0</td>\n",
       "      <td>0.99411</td>\n",
       "      <td>3.36</td>\n",
       "      <td>0.68</td>\n",
       "      <td>10.1</td>\n",
       "      <td>6</td>\n",
       "      <td>0</td>\n",
       "    </tr>\n",
       "  </tbody>\n",
       "</table>\n",
       "</div>"
      ],
      "text/plain": [
       "   fixed acidity  volatile acidity  citric acid  residual sugar  chlorides  \\\n",
       "0            5.9              0.61         0.08             2.1      0.071   \n",
       "1            8.2              1.00         0.09             2.3      0.065   \n",
       "2            6.4              0.24         0.49             5.8      0.053   \n",
       "3            6.6              0.23         0.26             1.3      0.045   \n",
       "4            7.2              0.24         0.29             3.0      0.036   \n",
       "\n",
       "   free sulfur dioxide  total sulfur dioxide  density    pH  sulphates  \\\n",
       "0                 16.0                  24.0  0.99376  3.56       0.77   \n",
       "1                  7.0                  37.0  0.99685  3.32       0.55   \n",
       "2                 25.0                 120.0  0.99420  3.01       0.98   \n",
       "3                 16.0                 128.0  0.99340  3.36       0.60   \n",
       "4                 17.0                 117.0  0.99411  3.36       0.68   \n",
       "\n",
       "   alcohol  quality  wine_is_red  \n",
       "0     11.1        6            1  \n",
       "1      9.0        6            1  \n",
       "2     10.5        6            0  \n",
       "3     10.0        6            0  \n",
       "4     10.1        6            0  "
      ]
     },
     "execution_count": 3,
     "metadata": {},
     "output_type": "execute_result"
    }
   ],
   "source": [
    "#Ja conseguimos ver das colunas que temos uma coluna nao desejada (a primeira - Unnamed), entao:\n",
    "columnsToInclude = ['fixed acidity', 'volatile acidity', 'citric acid',\n",
    "      'residual sugar', 'chlorides', 'free sulfur dioxide',\n",
    "      'total sulfur dioxide', 'density', 'pH', 'sulphates', 'alcohol',\n",
    "      'quality', 'wine_is_red']\n",
    "df = pd.read_csv('winequality.csv', sep = \",\", usecols=columnsToInclude)\n",
    "df.head()"
   ]
  },
  {
   "cell_type": "code",
   "execution_count": 4,
   "id": "49461ded",
   "metadata": {},
   "outputs": [
    {
     "data": {
      "text/plain": [
       "fixed acidity           0\n",
       "volatile acidity        0\n",
       "citric acid             0\n",
       "residual sugar          0\n",
       "chlorides               0\n",
       "free sulfur dioxide     0\n",
       "total sulfur dioxide    0\n",
       "density                 0\n",
       "pH                      0\n",
       "sulphates               0\n",
       "alcohol                 0\n",
       "quality                 0\n",
       "wine_is_red             0\n",
       "dtype: int64"
      ]
     },
     "execution_count": 4,
     "metadata": {},
     "output_type": "execute_result"
    }
   ],
   "source": [
    "#Checando por valores nulos:\n",
    "df.isnull().sum()"
   ]
  },
  {
   "cell_type": "code",
   "execution_count": 5,
   "id": "0f68460c",
   "metadata": {},
   "outputs": [
    {
     "data": {
      "image/png": "[encoded data removed]",
      "text/plain": [
       "<Figure size 864x864 with 2 Axes>"
      ]
     },
     "metadata": {
      "needs_background": "light"
     },
     "output_type": "display_data"
    }
   ],
   "source": [
    "#Checando a correlação de varíaveis:\n",
    "correlationMatrix = df.corr()\n",
    "plt.figure(figsize=(12, 12))\n",
    "sns.heatmap(correlationMatrix, annot=True, cmap='coolwarm', fmt=\".2f\", linewidths=0.5)\n",
    "plt.title('Correlation Heatmap')\n",
    "plt.show()"
   ]
  },
  {
   "cell_type": "code",
   "execution_count": 6,
   "id": "a0a28efd",
   "metadata": {},
   "outputs": [],
   "source": [
    "#Pegando o que queremos - vou tentar aplicar um KNN para prever se o vinho é tinto ou nao\n",
    "x = df.iloc[:, 0:-1]#Todas as colunas menos wine_is_red\n",
    "y = df.iloc [:, -1] #Pega so wine_is_red"
   ]
  },
  {
   "cell_type": "code",
   "execution_count": 7,
   "id": "91586b9e",
   "metadata": {},
   "outputs": [
    {
     "data": {
      "text/html": [
       "<div>\n",
       "<style scoped>\n",
       "    .dataframe tbody tr th:only-of-type {\n",
       "        vertical-align: middle;\n",
       "    }\n",
       "\n",
       "    .dataframe tbody tr th {\n",
       "        vertical-align: top;\n",
       "    }\n",
       "\n",
       "    .dataframe thead th {\n",
       "        text-align: right;\n",
       "    }\n",
       "</style>\n",
       "<table border=\"1\" class=\"dataframe\">\n",
       "  <thead>\n",
       "    <tr style=\"text-align: right;\">\n",
       "      <th></th>\n",
       "      <th>fixed acidity</th>\n",
       "      <th>volatile acidity</th>\n",
       "      <th>citric acid</th>\n",
       "      <th>residual sugar</th>\n",
       "      <th>chlorides</th>\n",
       "      <th>free sulfur dioxide</th>\n",
       "      <th>total sulfur dioxide</th>\n",
       "      <th>density</th>\n",
       "      <th>pH</th>\n",
       "      <th>sulphates</th>\n",
       "      <th>alcohol</th>\n",
       "      <th>quality</th>\n",
       "    </tr>\n",
       "  </thead>\n",
       "  <tbody>\n",
       "    <tr>\n",
       "      <th>0</th>\n",
       "      <td>5.9</td>\n",
       "      <td>0.61</td>\n",
       "      <td>0.08</td>\n",
       "      <td>2.1</td>\n",
       "      <td>0.071</td>\n",
       "      <td>16.0</td>\n",
       "      <td>24.0</td>\n",
       "      <td>0.99376</td>\n",
       "      <td>3.56</td>\n",
       "      <td>0.77</td>\n",
       "      <td>11.1</td>\n",
       "      <td>6</td>\n",
       "    </tr>\n",
       "    <tr>\n",
       "      <th>1</th>\n",
       "      <td>8.2</td>\n",
       "      <td>1.00</td>\n",
       "      <td>0.09</td>\n",
       "      <td>2.3</td>\n",
       "      <td>0.065</td>\n",
       "      <td>7.0</td>\n",
       "      <td>37.0</td>\n",
       "      <td>0.99685</td>\n",
       "      <td>3.32</td>\n",
       "      <td>0.55</td>\n",
       "      <td>9.0</td>\n",
       "      <td>6</td>\n",
       "    </tr>\n",
       "    <tr>\n",
       "      <th>2</th>\n",
       "      <td>6.4</td>\n",
       "      <td>0.24</td>\n",
       "      <td>0.49</td>\n",
       "      <td>5.8</td>\n",
       "      <td>0.053</td>\n",
       "      <td>25.0</td>\n",
       "      <td>120.0</td>\n",
       "      <td>0.99420</td>\n",
       "      <td>3.01</td>\n",
       "      <td>0.98</td>\n",
       "      <td>10.5</td>\n",
       "      <td>6</td>\n",
       "    </tr>\n",
       "    <tr>\n",
       "      <th>3</th>\n",
       "      <td>6.6</td>\n",
       "      <td>0.23</td>\n",
       "      <td>0.26</td>\n",
       "      <td>1.3</td>\n",
       "      <td>0.045</td>\n",
       "      <td>16.0</td>\n",
       "      <td>128.0</td>\n",
       "      <td>0.99340</td>\n",
       "      <td>3.36</td>\n",
       "      <td>0.60</td>\n",
       "      <td>10.0</td>\n",
       "      <td>6</td>\n",
       "    </tr>\n",
       "    <tr>\n",
       "      <th>4</th>\n",
       "      <td>7.2</td>\n",
       "      <td>0.24</td>\n",
       "      <td>0.29</td>\n",
       "      <td>3.0</td>\n",
       "      <td>0.036</td>\n",
       "      <td>17.0</td>\n",
       "      <td>117.0</td>\n",
       "      <td>0.99411</td>\n",
       "      <td>3.36</td>\n",
       "      <td>0.68</td>\n",
       "      <td>10.1</td>\n",
       "      <td>6</td>\n",
       "    </tr>\n",
       "  </tbody>\n",
       "</table>\n",
       "</div>"
      ],
      "text/plain": [
       "   fixed acidity  volatile acidity  citric acid  residual sugar  chlorides  \\\n",
       "0            5.9              0.61         0.08             2.1      0.071   \n",
       "1            8.2              1.00         0.09             2.3      0.065   \n",
       "2            6.4              0.24         0.49             5.8      0.053   \n",
       "3            6.6              0.23         0.26             1.3      0.045   \n",
       "4            7.2              0.24         0.29             3.0      0.036   \n",
       "\n",
       "   free sulfur dioxide  total sulfur dioxide  density    pH  sulphates  \\\n",
       "0                 16.0                  24.0  0.99376  3.56       0.77   \n",
       "1                  7.0                  37.0  0.99685  3.32       0.55   \n",
       "2                 25.0                 120.0  0.99420  3.01       0.98   \n",
       "3                 16.0                 128.0  0.99340  3.36       0.60   \n",
       "4                 17.0                 117.0  0.99411  3.36       0.68   \n",
       "\n",
       "   alcohol  quality  \n",
       "0     11.1        6  \n",
       "1      9.0        6  \n",
       "2     10.5        6  \n",
       "3     10.0        6  \n",
       "4     10.1        6  "
      ]
     },
     "execution_count": 7,
     "metadata": {},
     "output_type": "execute_result"
    }
   ],
   "source": [
    "x.head()"
   ]
  },
  {
   "cell_type": "code",
   "execution_count": 8,
   "id": "eb061522",
   "metadata": {},
   "outputs": [
    {
     "data": {
      "text/plain": [
       "0    1\n",
       "1    1\n",
       "2    0\n",
       "3    0\n",
       "4    0\n",
       "Name: wine_is_red, dtype: int64"
      ]
     },
     "execution_count": 8,
     "metadata": {},
     "output_type": "execute_result"
    }
   ],
   "source": [
    "y.head()"
   ]
  },
  {
   "cell_type": "code",
   "execution_count": 9,
   "id": "72782c8f",
   "metadata": {},
   "outputs": [],
   "source": [
    "#Conversão de x e y para np arrays para que o código funcione apropriadamente:\n",
    "x = x.to_numpy()\n",
    "y = y.to_numpy()"
   ]
  },
  {
   "cell_type": "code",
   "execution_count": 10,
   "id": "19fa5822",
   "metadata": {},
   "outputs": [
    {
     "data": {
      "text/plain": [
       "array([[ 5.9 ,  0.61,  0.08, ...,  0.77, 11.1 ,  6.  ],\n",
       "       [ 8.2 ,  1.  ,  0.09, ...,  0.55,  9.  ,  6.  ],\n",
       "       [ 6.4 ,  0.24,  0.49, ...,  0.98, 10.5 ,  6.  ],\n",
       "       ...,\n",
       "       [ 7.9 ,  0.33,  0.28, ...,  0.38,  8.8 ,  6.  ],\n",
       "       [ 7.  ,  0.3 ,  0.28, ...,  0.57, 11.4 ,  5.  ],\n",
       "       [ 6.4 ,  0.22,  0.49, ...,  0.52, 10.1 ,  6.  ]])"
      ]
     },
     "execution_count": 10,
     "metadata": {},
     "output_type": "execute_result"
    }
   ],
   "source": [
    "x"
   ]
  },
  {
   "cell_type": "code",
   "execution_count": 11,
   "id": "68876e33",
   "metadata": {},
   "outputs": [
    {
     "data": {
      "text/plain": [
       "array([1, 1, 0, ..., 0, 0, 0], dtype=int64)"
      ]
     },
     "execution_count": 11,
     "metadata": {},
     "output_type": "execute_result"
    }
   ],
   "source": [
    "y"
   ]
  },
  {
   "cell_type": "code",
   "execution_count": 12,
   "id": "67424e2f",
   "metadata": {},
   "outputs": [],
   "source": [
    "#Calcula a deistancia euclidiana a partir da definicao\n",
    "def euclideanDistance(x1, x2):\n",
    "    distance = np.sqrt(np.sum((x1-x2)**2))\n",
    "    return distance\n",
    "\n",
    "#Classe para abrigar tudo relacionado ao algoritimo do KNN\n",
    "class KNN:\n",
    "    #Inicializa a classe com o valor de vizinhos, (k = 3 valor padrao)\n",
    "    def __init__(self, k=3):\n",
    "        self.k = k\n",
    "    \n",
    "    #Coloca os valores de treinamento \n",
    "    def fit(self, X, y):\n",
    "        self.X_train = X\n",
    "        self.y_train = y\n",
    "    \n",
    "    #Chama a funcao para as predictions\n",
    "    def predict(self, X):\n",
    "        predictions = [self._predict(dataPoint) for dataPoint in X]\n",
    "        return predictions\n",
    "\n",
    "    #Função auxiliar para calcular as predictions baseadas na distancia euclidiana (recebe apenas um dado por vez)\n",
    "    def _predict(self, dataPoint):\n",
    "        #Distancia\n",
    "        distances = [euclideanDistance(dataPoint, dataPointTrain) for dataPointTrain in self.X_train]\n",
    "    \n",
    "        #Pega o vizinho mais proximo a partir do indice\n",
    "        kIndices = np.argsort(distances)[:self.k] #Nos dá os indices dos valores ORIGINAIS no array antes do sort\n",
    "        #(i.e. o primeiro valor do será o índice original do vizinho mais próximo)\n",
    "        kNearestLabels = [self.y_train[i] for i in kIndices] #Pega o valores dos vizinhos a partir dos indices\n",
    "\n",
    "        #Pegar o vizinho com mais aparições:\n",
    "        counter = {} #Para ver qual vizinho é o mais comum\n",
    "\n",
    "        #Ver o array como um todo e pegar os valores e suas aparições:\n",
    "        for element in kNearestLabels:\n",
    "            if element in counter:\n",
    "                counter[element] += 1\n",
    "            else:\n",
    "                counter[element] = 1\n",
    "\n",
    "        #Pegar o valor mais comum e suas aparições\n",
    "        mostCommonElement = None\n",
    "        mostCommonCount = 0\n",
    "\n",
    "        for element, count in counter.items():\n",
    "            if count > mostCommonCount:\n",
    "                mostCommonElement = element\n",
    "                mostCommonCount = count\n",
    "            \n",
    "        return mostCommonElement"
   ]
  },
  {
   "cell_type": "code",
   "execution_count": 13,
   "id": "e71f4ad7",
   "metadata": {},
   "outputs": [],
   "source": [
    "X_train, X_test, y_train, y_test = train_test_split(x, y, test_size=0.25)\n",
    "k = np.int64(np.sqrt(X_test.shape[0])) #Valor ótimo de K\n",
    "clf = KNN(k)\n",
    "clf.fit(X_train, y_train)\n",
    "predictions = clf.predict(X_test)"
   ]
  },
  {
   "cell_type": "code",
   "execution_count": 14,
   "id": "b696a4b8",
   "metadata": {},
   "outputs": [
    {
     "data": {
      "text/plain": [
       "[1, 1, 1, 0, 0, 0, 0, 0, 1, 0, 0, 0, 0, 0, 1, 0, 0, 0, 0, 0]"
      ]
     },
     "execution_count": 14,
     "metadata": {},
     "output_type": "execute_result"
    }
   ],
   "source": [
    "predictions[0:20]"
   ]
  },
  {
   "cell_type": "code",
   "execution_count": 15,
   "id": "9ac04850",
   "metadata": {},
   "outputs": [
    {
     "name": "stdout",
     "output_type": "stream",
     "text": [
      "0.9384615384615385\n"
     ]
    }
   ],
   "source": [
    "acc = np.sum(predictions == y_test) / len(y_test)\n",
    "print(acc)"
   ]
  },
  {
   "cell_type": "markdown",
   "id": "f91e21e8",
   "metadata": {},
   "source": [
    "# Classificação multiclasse analisando a qualidade do vinho (sem normalização)"
   ]
  },
  {
   "cell_type": "code",
   "execution_count": 16,
   "id": "91e1a124",
   "metadata": {},
   "outputs": [],
   "source": [
    "#Realizamos a classificação binária + KNN para prever se o vinho seria tinto, agora vamos utilizar o mesmo algoritimo para \n",
    "#prever a sua qualidade realizando todos os procedimentos passados."
   ]
  },
  {
   "cell_type": "code",
   "execution_count": 17,
   "id": "a2d5026e",
   "metadata": {},
   "outputs": [
    {
     "data": {
      "text/html": [
       "<div>\n",
       "<style scoped>\n",
       "    .dataframe tbody tr th:only-of-type {\n",
       "        vertical-align: middle;\n",
       "    }\n",
       "\n",
       "    .dataframe tbody tr th {\n",
       "        vertical-align: top;\n",
       "    }\n",
       "\n",
       "    .dataframe thead th {\n",
       "        text-align: right;\n",
       "    }\n",
       "</style>\n",
       "<table border=\"1\" class=\"dataframe\">\n",
       "  <thead>\n",
       "    <tr style=\"text-align: right;\">\n",
       "      <th></th>\n",
       "      <th>fixed acidity</th>\n",
       "      <th>volatile acidity</th>\n",
       "      <th>citric acid</th>\n",
       "      <th>residual sugar</th>\n",
       "      <th>chlorides</th>\n",
       "      <th>free sulfur dioxide</th>\n",
       "      <th>total sulfur dioxide</th>\n",
       "      <th>density</th>\n",
       "      <th>pH</th>\n",
       "      <th>sulphates</th>\n",
       "      <th>alcohol</th>\n",
       "      <th>quality</th>\n",
       "      <th>wine_is_red</th>\n",
       "    </tr>\n",
       "  </thead>\n",
       "  <tbody>\n",
       "    <tr>\n",
       "      <th>0</th>\n",
       "      <td>5.9</td>\n",
       "      <td>0.61</td>\n",
       "      <td>0.08</td>\n",
       "      <td>2.1</td>\n",
       "      <td>0.071</td>\n",
       "      <td>16.0</td>\n",
       "      <td>24.0</td>\n",
       "      <td>0.99376</td>\n",
       "      <td>3.56</td>\n",
       "      <td>0.77</td>\n",
       "      <td>11.1</td>\n",
       "      <td>6</td>\n",
       "      <td>1</td>\n",
       "    </tr>\n",
       "    <tr>\n",
       "      <th>1</th>\n",
       "      <td>8.2</td>\n",
       "      <td>1.00</td>\n",
       "      <td>0.09</td>\n",
       "      <td>2.3</td>\n",
       "      <td>0.065</td>\n",
       "      <td>7.0</td>\n",
       "      <td>37.0</td>\n",
       "      <td>0.99685</td>\n",
       "      <td>3.32</td>\n",
       "      <td>0.55</td>\n",
       "      <td>9.0</td>\n",
       "      <td>6</td>\n",
       "      <td>1</td>\n",
       "    </tr>\n",
       "    <tr>\n",
       "      <th>2</th>\n",
       "      <td>6.4</td>\n",
       "      <td>0.24</td>\n",
       "      <td>0.49</td>\n",
       "      <td>5.8</td>\n",
       "      <td>0.053</td>\n",
       "      <td>25.0</td>\n",
       "      <td>120.0</td>\n",
       "      <td>0.99420</td>\n",
       "      <td>3.01</td>\n",
       "      <td>0.98</td>\n",
       "      <td>10.5</td>\n",
       "      <td>6</td>\n",
       "      <td>0</td>\n",
       "    </tr>\n",
       "    <tr>\n",
       "      <th>3</th>\n",
       "      <td>6.6</td>\n",
       "      <td>0.23</td>\n",
       "      <td>0.26</td>\n",
       "      <td>1.3</td>\n",
       "      <td>0.045</td>\n",
       "      <td>16.0</td>\n",
       "      <td>128.0</td>\n",
       "      <td>0.99340</td>\n",
       "      <td>3.36</td>\n",
       "      <td>0.60</td>\n",
       "      <td>10.0</td>\n",
       "      <td>6</td>\n",
       "      <td>0</td>\n",
       "    </tr>\n",
       "    <tr>\n",
       "      <th>4</th>\n",
       "      <td>7.2</td>\n",
       "      <td>0.24</td>\n",
       "      <td>0.29</td>\n",
       "      <td>3.0</td>\n",
       "      <td>0.036</td>\n",
       "      <td>17.0</td>\n",
       "      <td>117.0</td>\n",
       "      <td>0.99411</td>\n",
       "      <td>3.36</td>\n",
       "      <td>0.68</td>\n",
       "      <td>10.1</td>\n",
       "      <td>6</td>\n",
       "      <td>0</td>\n",
       "    </tr>\n",
       "  </tbody>\n",
       "</table>\n",
       "</div>"
      ],
      "text/plain": [
       "   fixed acidity  volatile acidity  citric acid  residual sugar  chlorides  \\\n",
       "0            5.9              0.61         0.08             2.1      0.071   \n",
       "1            8.2              1.00         0.09             2.3      0.065   \n",
       "2            6.4              0.24         0.49             5.8      0.053   \n",
       "3            6.6              0.23         0.26             1.3      0.045   \n",
       "4            7.2              0.24         0.29             3.0      0.036   \n",
       "\n",
       "   free sulfur dioxide  total sulfur dioxide  density    pH  sulphates  \\\n",
       "0                 16.0                  24.0  0.99376  3.56       0.77   \n",
       "1                  7.0                  37.0  0.99685  3.32       0.55   \n",
       "2                 25.0                 120.0  0.99420  3.01       0.98   \n",
       "3                 16.0                 128.0  0.99340  3.36       0.60   \n",
       "4                 17.0                 117.0  0.99411  3.36       0.68   \n",
       "\n",
       "   alcohol  quality  wine_is_red  \n",
       "0     11.1        6            1  \n",
       "1      9.0        6            1  \n",
       "2     10.5        6            0  \n",
       "3     10.0        6            0  \n",
       "4     10.1        6            0  "
      ]
     },
     "execution_count": 17,
     "metadata": {},
     "output_type": "execute_result"
    }
   ],
   "source": [
    "#Lendo o dataframe:\n",
    "df = pd.read_csv('winequality.csv', sep = \",\")\n",
    "df.head()\n",
    "\n",
    "#Ja conseguimos ver das colunas que temos uma coluna nao desejada (a primeira - Unnamed), entao:\n",
    "columnsToInclude = ['fixed acidity', 'volatile acidity', 'citric acid',\n",
    "      'residual sugar', 'chlorides', 'free sulfur dioxide',\n",
    "      'total sulfur dioxide', 'density', 'pH', 'sulphates', 'alcohol',\n",
    "      'quality', 'wine_is_red']\n",
    "df = pd.read_csv('winequality.csv', sep = \",\", usecols=columnsToInclude)\n",
    "df.head()"
   ]
  },
  {
   "cell_type": "code",
   "execution_count": 18,
   "id": "3f3a70fa",
   "metadata": {},
   "outputs": [],
   "source": [
    "x = df.drop(columns=['quality'])\n",
    "y = df.iloc[:, 11] #Pega so quality"
   ]
  },
  {
   "cell_type": "code",
   "execution_count": 19,
   "id": "0baefc2e",
   "metadata": {},
   "outputs": [
    {
     "data": {
      "text/html": [
       "<div>\n",
       "<style scoped>\n",
       "    .dataframe tbody tr th:only-of-type {\n",
       "        vertical-align: middle;\n",
       "    }\n",
       "\n",
       "    .dataframe tbody tr th {\n",
       "        vertical-align: top;\n",
       "    }\n",
       "\n",
       "    .dataframe thead th {\n",
       "        text-align: right;\n",
       "    }\n",
       "</style>\n",
       "<table border=\"1\" class=\"dataframe\">\n",
       "  <thead>\n",
       "    <tr style=\"text-align: right;\">\n",
       "      <th></th>\n",
       "      <th>fixed acidity</th>\n",
       "      <th>volatile acidity</th>\n",
       "      <th>citric acid</th>\n",
       "      <th>residual sugar</th>\n",
       "      <th>chlorides</th>\n",
       "      <th>free sulfur dioxide</th>\n",
       "      <th>total sulfur dioxide</th>\n",
       "      <th>density</th>\n",
       "      <th>pH</th>\n",
       "      <th>sulphates</th>\n",
       "      <th>alcohol</th>\n",
       "      <th>wine_is_red</th>\n",
       "    </tr>\n",
       "  </thead>\n",
       "  <tbody>\n",
       "    <tr>\n",
       "      <th>0</th>\n",
       "      <td>5.9</td>\n",
       "      <td>0.61</td>\n",
       "      <td>0.08</td>\n",
       "      <td>2.1</td>\n",
       "      <td>0.071</td>\n",
       "      <td>16.0</td>\n",
       "      <td>24.0</td>\n",
       "      <td>0.99376</td>\n",
       "      <td>3.56</td>\n",
       "      <td>0.77</td>\n",
       "      <td>11.1</td>\n",
       "      <td>1</td>\n",
       "    </tr>\n",
       "    <tr>\n",
       "      <th>1</th>\n",
       "      <td>8.2</td>\n",
       "      <td>1.00</td>\n",
       "      <td>0.09</td>\n",
       "      <td>2.3</td>\n",
       "      <td>0.065</td>\n",
       "      <td>7.0</td>\n",
       "      <td>37.0</td>\n",
       "      <td>0.99685</td>\n",
       "      <td>3.32</td>\n",
       "      <td>0.55</td>\n",
       "      <td>9.0</td>\n",
       "      <td>1</td>\n",
       "    </tr>\n",
       "    <tr>\n",
       "      <th>2</th>\n",
       "      <td>6.4</td>\n",
       "      <td>0.24</td>\n",
       "      <td>0.49</td>\n",
       "      <td>5.8</td>\n",
       "      <td>0.053</td>\n",
       "      <td>25.0</td>\n",
       "      <td>120.0</td>\n",
       "      <td>0.99420</td>\n",
       "      <td>3.01</td>\n",
       "      <td>0.98</td>\n",
       "      <td>10.5</td>\n",
       "      <td>0</td>\n",
       "    </tr>\n",
       "    <tr>\n",
       "      <th>3</th>\n",
       "      <td>6.6</td>\n",
       "      <td>0.23</td>\n",
       "      <td>0.26</td>\n",
       "      <td>1.3</td>\n",
       "      <td>0.045</td>\n",
       "      <td>16.0</td>\n",
       "      <td>128.0</td>\n",
       "      <td>0.99340</td>\n",
       "      <td>3.36</td>\n",
       "      <td>0.60</td>\n",
       "      <td>10.0</td>\n",
       "      <td>0</td>\n",
       "    </tr>\n",
       "    <tr>\n",
       "      <th>4</th>\n",
       "      <td>7.2</td>\n",
       "      <td>0.24</td>\n",
       "      <td>0.29</td>\n",
       "      <td>3.0</td>\n",
       "      <td>0.036</td>\n",
       "      <td>17.0</td>\n",
       "      <td>117.0</td>\n",
       "      <td>0.99411</td>\n",
       "      <td>3.36</td>\n",
       "      <td>0.68</td>\n",
       "      <td>10.1</td>\n",
       "      <td>0</td>\n",
       "    </tr>\n",
       "  </tbody>\n",
       "</table>\n",
       "</div>"
      ],
      "text/plain": [
       "   fixed acidity  volatile acidity  citric acid  residual sugar  chlorides  \\\n",
       "0            5.9              0.61         0.08             2.1      0.071   \n",
       "1            8.2              1.00         0.09             2.3      0.065   \n",
       "2            6.4              0.24         0.49             5.8      0.053   \n",
       "3            6.6              0.23         0.26             1.3      0.045   \n",
       "4            7.2              0.24         0.29             3.0      0.036   \n",
       "\n",
       "   free sulfur dioxide  total sulfur dioxide  density    pH  sulphates  \\\n",
       "0                 16.0                  24.0  0.99376  3.56       0.77   \n",
       "1                  7.0                  37.0  0.99685  3.32       0.55   \n",
       "2                 25.0                 120.0  0.99420  3.01       0.98   \n",
       "3                 16.0                 128.0  0.99340  3.36       0.60   \n",
       "4                 17.0                 117.0  0.99411  3.36       0.68   \n",
       "\n",
       "   alcohol  wine_is_red  \n",
       "0     11.1            1  \n",
       "1      9.0            1  \n",
       "2     10.5            0  \n",
       "3     10.0            0  \n",
       "4     10.1            0  "
      ]
     },
     "execution_count": 19,
     "metadata": {},
     "output_type": "execute_result"
    }
   ],
   "source": [
    "x.head()"
   ]
  },
  {
   "cell_type": "code",
   "execution_count": 20,
   "id": "6e827a06",
   "metadata": {},
   "outputs": [
    {
     "data": {
      "text/plain": [
       "0    6\n",
       "1    6\n",
       "2    6\n",
       "3    6\n",
       "4    6\n",
       "Name: quality, dtype: int64"
      ]
     },
     "execution_count": 20,
     "metadata": {},
     "output_type": "execute_result"
    }
   ],
   "source": [
    "y.head()"
   ]
  },
  {
   "cell_type": "code",
   "execution_count": 21,
   "id": "3f22bc26",
   "metadata": {},
   "outputs": [],
   "source": [
    "#Conversão de x e y para np arrays para que o código funcione apropriadamente:\n",
    "x = x.to_numpy()\n",
    "y = y.to_numpy()"
   ]
  },
  {
   "cell_type": "code",
   "execution_count": 22,
   "id": "24269f97",
   "metadata": {},
   "outputs": [
    {
     "data": {
      "text/plain": [
       "array([[ 5.9 ,  0.61,  0.08, ...,  0.77, 11.1 ,  1.  ],\n",
       "       [ 8.2 ,  1.  ,  0.09, ...,  0.55,  9.  ,  1.  ],\n",
       "       [ 6.4 ,  0.24,  0.49, ...,  0.98, 10.5 ,  0.  ],\n",
       "       ...,\n",
       "       [ 7.9 ,  0.33,  0.28, ...,  0.38,  8.8 ,  0.  ],\n",
       "       [ 7.  ,  0.3 ,  0.28, ...,  0.57, 11.4 ,  0.  ],\n",
       "       [ 6.4 ,  0.22,  0.49, ...,  0.52, 10.1 ,  0.  ]])"
      ]
     },
     "execution_count": 22,
     "metadata": {},
     "output_type": "execute_result"
    }
   ],
   "source": [
    "x"
   ]
  },
  {
   "cell_type": "code",
   "execution_count": 23,
   "id": "48a76cea",
   "metadata": {},
   "outputs": [
    {
     "data": {
      "text/plain": [
       "array([6, 6, 6, ..., 6, 5, 6], dtype=int64)"
      ]
     },
     "execution_count": 23,
     "metadata": {},
     "output_type": "execute_result"
    }
   ],
   "source": [
    "y"
   ]
  },
  {
   "cell_type": "code",
   "execution_count": 24,
   "id": "38ac74bc",
   "metadata": {},
   "outputs": [],
   "source": [
    "X_train, X_test, y_train, y_test = train_test_split(x, y, test_size=0.25)\n",
    "k = np.int64(np.sqrt(X_test.shape[0])) #Valor ótimo de K\n",
    "clf = KNN(k)\n",
    "clf.fit(X_train, y_train)\n",
    "predictions = clf.predict(X_test)"
   ]
  },
  {
   "cell_type": "code",
   "execution_count": 25,
   "id": "8b5894fd",
   "metadata": {},
   "outputs": [
    {
     "data": {
      "text/plain": [
       "[5, 6, 5, 5, 5, 6, 5, 6, 5, 7, 5, 6, 6, 6, 6, 6, 6, 5, 6, 5]"
      ]
     },
     "execution_count": 25,
     "metadata": {},
     "output_type": "execute_result"
    }
   ],
   "source": [
    "predictions[0:20]"
   ]
  },
  {
   "cell_type": "code",
   "execution_count": 26,
   "id": "19a26e84",
   "metadata": {},
   "outputs": [
    {
     "name": "stdout",
     "output_type": "stream",
     "text": [
      "0.46892307692307694\n"
     ]
    }
   ],
   "source": [
    "acc = np.sum(predictions == y_test) / len(y_test)\n",
    "print(acc)"
   ]
  },
  {
   "cell_type": "markdown",
   "id": "1929321f",
   "metadata": {},
   "source": [
    "Podemos ver que a acurácia com a classificação multiclasse é muito inferior quando comparada à binária quando utilizamos o KNN.\n",
    "(Uma coisa interessante a ser pensada á a baixa correlação de \"quality\" com as outras variáveis quando analisamos o heatmap)"
   ]
  },
  {
   "cell_type": "markdown",
   "id": "7e084347",
   "metadata": {},
   "source": [
    "# Aplicação dos modelos com normalização de dados:"
   ]
  },
  {
   "cell_type": "markdown",
   "id": "b2ae03d0",
   "metadata": {},
   "source": [
    "# Classificação binária normalizada"
   ]
  },
  {
   "cell_type": "code",
   "execution_count": 27,
   "id": "af0dd909",
   "metadata": {},
   "outputs": [],
   "source": [
    "#Classificação binária:\n",
    "#Lendo o dataframe:\n",
    "df = pd.read_csv('winequality.csv', sep = \",\")\n",
    "df.head()\n",
    "\n",
    "columnsToInclude = ['fixed acidity', 'volatile acidity', 'citric acid',\n",
    "      'residual sugar', 'chlorides', 'free sulfur dioxide',\n",
    "      'total sulfur dioxide', 'density', 'pH', 'sulphates', 'alcohol',\n",
    "      'quality', 'wine_is_red']\n",
    "df = pd.read_csv('winequality.csv', sep = \",\", usecols=columnsToInclude)\n",
    "\n",
    "\n",
    "x = df.iloc[:, 0:-1]\n",
    "y = df.iloc[:, -1] \n"
   ]
  },
  {
   "cell_type": "code",
   "execution_count": 28,
   "id": "702956c8",
   "metadata": {},
   "outputs": [
    {
     "data": {
      "text/html": [
       "<div>\n",
       "<style scoped>\n",
       "    .dataframe tbody tr th:only-of-type {\n",
       "        vertical-align: middle;\n",
       "    }\n",
       "\n",
       "    .dataframe tbody tr th {\n",
       "        vertical-align: top;\n",
       "    }\n",
       "\n",
       "    .dataframe thead th {\n",
       "        text-align: right;\n",
       "    }\n",
       "</style>\n",
       "<table border=\"1\" class=\"dataframe\">\n",
       "  <thead>\n",
       "    <tr style=\"text-align: right;\">\n",
       "      <th></th>\n",
       "      <th>fixed acidity</th>\n",
       "      <th>volatile acidity</th>\n",
       "      <th>citric acid</th>\n",
       "      <th>residual sugar</th>\n",
       "      <th>chlorides</th>\n",
       "      <th>free sulfur dioxide</th>\n",
       "      <th>total sulfur dioxide</th>\n",
       "      <th>density</th>\n",
       "      <th>pH</th>\n",
       "      <th>sulphates</th>\n",
       "      <th>alcohol</th>\n",
       "      <th>quality</th>\n",
       "    </tr>\n",
       "  </thead>\n",
       "  <tbody>\n",
       "    <tr>\n",
       "      <th>0</th>\n",
       "      <td>5.9</td>\n",
       "      <td>0.61</td>\n",
       "      <td>0.08</td>\n",
       "      <td>2.1</td>\n",
       "      <td>0.071</td>\n",
       "      <td>16.0</td>\n",
       "      <td>24.0</td>\n",
       "      <td>0.99376</td>\n",
       "      <td>3.56</td>\n",
       "      <td>0.77</td>\n",
       "      <td>11.1</td>\n",
       "      <td>6</td>\n",
       "    </tr>\n",
       "    <tr>\n",
       "      <th>1</th>\n",
       "      <td>8.2</td>\n",
       "      <td>1.00</td>\n",
       "      <td>0.09</td>\n",
       "      <td>2.3</td>\n",
       "      <td>0.065</td>\n",
       "      <td>7.0</td>\n",
       "      <td>37.0</td>\n",
       "      <td>0.99685</td>\n",
       "      <td>3.32</td>\n",
       "      <td>0.55</td>\n",
       "      <td>9.0</td>\n",
       "      <td>6</td>\n",
       "    </tr>\n",
       "    <tr>\n",
       "      <th>2</th>\n",
       "      <td>6.4</td>\n",
       "      <td>0.24</td>\n",
       "      <td>0.49</td>\n",
       "      <td>5.8</td>\n",
       "      <td>0.053</td>\n",
       "      <td>25.0</td>\n",
       "      <td>120.0</td>\n",
       "      <td>0.99420</td>\n",
       "      <td>3.01</td>\n",
       "      <td>0.98</td>\n",
       "      <td>10.5</td>\n",
       "      <td>6</td>\n",
       "    </tr>\n",
       "    <tr>\n",
       "      <th>3</th>\n",
       "      <td>6.6</td>\n",
       "      <td>0.23</td>\n",
       "      <td>0.26</td>\n",
       "      <td>1.3</td>\n",
       "      <td>0.045</td>\n",
       "      <td>16.0</td>\n",
       "      <td>128.0</td>\n",
       "      <td>0.99340</td>\n",
       "      <td>3.36</td>\n",
       "      <td>0.60</td>\n",
       "      <td>10.0</td>\n",
       "      <td>6</td>\n",
       "    </tr>\n",
       "    <tr>\n",
       "      <th>4</th>\n",
       "      <td>7.2</td>\n",
       "      <td>0.24</td>\n",
       "      <td>0.29</td>\n",
       "      <td>3.0</td>\n",
       "      <td>0.036</td>\n",
       "      <td>17.0</td>\n",
       "      <td>117.0</td>\n",
       "      <td>0.99411</td>\n",
       "      <td>3.36</td>\n",
       "      <td>0.68</td>\n",
       "      <td>10.1</td>\n",
       "      <td>6</td>\n",
       "    </tr>\n",
       "  </tbody>\n",
       "</table>\n",
       "</div>"
      ],
      "text/plain": [
       "   fixed acidity  volatile acidity  citric acid  residual sugar  chlorides  \\\n",
       "0            5.9              0.61         0.08             2.1      0.071   \n",
       "1            8.2              1.00         0.09             2.3      0.065   \n",
       "2            6.4              0.24         0.49             5.8      0.053   \n",
       "3            6.6              0.23         0.26             1.3      0.045   \n",
       "4            7.2              0.24         0.29             3.0      0.036   \n",
       "\n",
       "   free sulfur dioxide  total sulfur dioxide  density    pH  sulphates  \\\n",
       "0                 16.0                  24.0  0.99376  3.56       0.77   \n",
       "1                  7.0                  37.0  0.99685  3.32       0.55   \n",
       "2                 25.0                 120.0  0.99420  3.01       0.98   \n",
       "3                 16.0                 128.0  0.99340  3.36       0.60   \n",
       "4                 17.0                 117.0  0.99411  3.36       0.68   \n",
       "\n",
       "   alcohol  quality  \n",
       "0     11.1        6  \n",
       "1      9.0        6  \n",
       "2     10.5        6  \n",
       "3     10.0        6  \n",
       "4     10.1        6  "
      ]
     },
     "execution_count": 28,
     "metadata": {},
     "output_type": "execute_result"
    }
   ],
   "source": [
    "x.head()"
   ]
  },
  {
   "cell_type": "code",
   "execution_count": 29,
   "id": "08fa40cd",
   "metadata": {},
   "outputs": [
    {
     "data": {
      "text/plain": [
       "0    1\n",
       "1    1\n",
       "2    0\n",
       "3    0\n",
       "4    0\n",
       "Name: wine_is_red, dtype: int64"
      ]
     },
     "execution_count": 29,
     "metadata": {},
     "output_type": "execute_result"
    }
   ],
   "source": [
    "y.head()"
   ]
  },
  {
   "cell_type": "code",
   "execution_count": 30,
   "id": "aae16602",
   "metadata": {},
   "outputs": [],
   "source": [
    "x = x.to_numpy()\n",
    "y = y.to_numpy()"
   ]
  },
  {
   "cell_type": "code",
   "execution_count": 31,
   "id": "d2b5b1f8",
   "metadata": {},
   "outputs": [],
   "source": [
    "X_train, X_test, y_train, y_test = train_test_split(x, y, test_size=0.25)\n",
    "\n",
    "#Normalizacao:\n",
    "mu = np.mean(X_train, 0)\n",
    "sigma = np.std(X_train, 0)\n",
    "X_train = (X_train - mu ) / sigma\n",
    "\n",
    "mu = np.mean(X_test, 0)\n",
    "sigma = np.std(X_test, 0)\n",
    "X_test = (X_test - mu ) / sigma"
   ]
  },
  {
   "cell_type": "code",
   "execution_count": 32,
   "id": "83f0db8a",
   "metadata": {},
   "outputs": [
    {
     "data": {
      "text/plain": [
       "array([[-1.01744466, -0.72598047, -0.95271754, ..., -0.21709637,\n",
       "        -0.50056783, -0.9314208 ],\n",
       "       [-1.47744393,  0.54330213, -1.43589094, ..., -0.34776454,\n",
       "         0.58985101, -2.07216543],\n",
       "       [ 0.36255313, -0.48421236,  0.01362928, ...,  0.17490814,\n",
       "         0.25433752, -0.9314208 ],\n",
       "       ...,\n",
       "       [ 0.97588548,  0.72462822,  1.87729813, ...,  5.27096682,\n",
       "        -1.08771644, -0.9314208 ],\n",
       "       [ 0.05588695, -0.54465438, -0.40051936, ..., -1.06643948,\n",
       "        -1.08771644, -0.9314208 ],\n",
       "       [-0.25077922, -0.18200221,  0.01362928, ..., -0.5437668 ,\n",
       "         0.75760775,  1.35006846]])"
      ]
     },
     "execution_count": 32,
     "metadata": {},
     "output_type": "execute_result"
    }
   ],
   "source": [
    "X_train"
   ]
  },
  {
   "cell_type": "code",
   "execution_count": 33,
   "id": "6a99f632",
   "metadata": {},
   "outputs": [
    {
     "data": {
      "text/plain": [
       "array([[-1.08541846, -0.17474136,  0.06511689, ...,  0.55252711,\n",
       "         0.01936931,  0.2039891 ],\n",
       "       [ 0.33040789, -0.11305901,  1.77070909, ...,  0.10819031,\n",
       "        -1.06963913, -0.9550399 ],\n",
       "       [-0.14153423, -1.16165902, -0.27600155, ..., -1.00265167,\n",
       "        -1.23717889,  1.36301811],\n",
       "       ...,\n",
       "       [ 1.35294914, -0.23642372,  0.20156426, ..., -0.55831488,\n",
       "         0.85706812,  1.36301811],\n",
       "       [-0.06287721, -0.42147078, -0.07133049, ...,  0.25630258,\n",
       "        -1.48848853, -0.9550399 ],\n",
       "       [-0.53481933, -0.60651784, -0.54889631, ..., -1.00265167,\n",
       "        -0.56701985, -0.9550399 ]])"
      ]
     },
     "execution_count": 33,
     "metadata": {},
     "output_type": "execute_result"
    }
   ],
   "source": [
    "X_test"
   ]
  },
  {
   "cell_type": "code",
   "execution_count": 34,
   "id": "e7468044",
   "metadata": {},
   "outputs": [],
   "source": [
    "k = np.int64(np.sqrt(X_test.shape[0])) #Valor ótimo de K\n",
    "clf = KNN(k)\n",
    "clf.fit(X_train, y_train)\n",
    "predictions = clf.predict(X_test)"
   ]
  },
  {
   "cell_type": "code",
   "execution_count": 35,
   "id": "cdc93edc",
   "metadata": {},
   "outputs": [
    {
     "data": {
      "text/plain": [
       "[0, 0, 0, 0, 0, 0, 0, 0, 0, 0, 0, 0, 0, 1, 0, 0, 1, 0, 1, 0]"
      ]
     },
     "execution_count": 35,
     "metadata": {},
     "output_type": "execute_result"
    }
   ],
   "source": [
    "predictions[0:20]"
   ]
  },
  {
   "cell_type": "code",
   "execution_count": 36,
   "id": "3e346d44",
   "metadata": {},
   "outputs": [
    {
     "name": "stdout",
     "output_type": "stream",
     "text": [
      "0.9876923076923076\n"
     ]
    }
   ],
   "source": [
    "acc = np.sum(predictions == y_test) / len(y_test)\n",
    "print(acc)"
   ]
  },
  {
   "cell_type": "markdown",
   "id": "93e853d3",
   "metadata": {},
   "source": [
    "# Classificação multiclasse normalizada:"
   ]
  },
  {
   "cell_type": "code",
   "execution_count": 37,
   "id": "f6b21a11",
   "metadata": {},
   "outputs": [],
   "source": [
    "#Lendo o dataframe:\n",
    "df = pd.read_csv('winequality.csv', sep = \",\")\n",
    "df.head()\n",
    "\n",
    "#Ja conseguimos ver das colunas que temos uma coluna nao desejada (a primeira - Unnamed), entao:\n",
    "columnsToInclude = ['fixed acidity', 'volatile acidity', 'citric acid',\n",
    "      'residual sugar', 'chlorides', 'free sulfur dioxide',\n",
    "      'total sulfur dioxide', 'density', 'pH', 'sulphates', 'alcohol',\n",
    "      'quality', 'wine_is_red']\n",
    "df = pd.read_csv('winequality.csv', sep = \",\", usecols=columnsToInclude)\n",
    "\n",
    "x = df.drop(columns=['quality'])\n",
    "y = df.iloc[:, 11] #Pega so quality\n",
    "\n",
    "x = x.to_numpy()\n",
    "y = y.to_numpy()"
   ]
  },
  {
   "cell_type": "code",
   "execution_count": 38,
   "id": "e10aba25",
   "metadata": {},
   "outputs": [],
   "source": [
    "X_train, X_test, y_train, y_test = train_test_split(x, y, test_size=0.25)\n",
    "\n",
    "mu = np.mean(X_train, 0)\n",
    "sigma = np.std(X_train, 0)\n",
    "X_train = (X_train - mu ) / sigma\n",
    "\n",
    "mu = np.mean(X_test, 0)\n",
    "sigma = np.std(X_test, 0)\n",
    "X_test = (X_test - mu ) / sigma\n",
    "\n",
    "k = np.int64(np.sqrt(X_test.shape[0])) #Valor ótimo de K\n",
    "clf = KNN(k)\n",
    "clf.fit(X_train, y_train)\n",
    "predictions = clf.predict(X_test)"
   ]
  },
  {
   "cell_type": "code",
   "execution_count": 39,
   "id": "449746ce",
   "metadata": {},
   "outputs": [
    {
     "data": {
      "text/plain": [
       "[6, 6, 6, 5, 5, 7, 7, 6, 5, 6, 6, 6, 6, 6, 6, 5, 5, 7, 6, 5]"
      ]
     },
     "execution_count": 39,
     "metadata": {},
     "output_type": "execute_result"
    }
   ],
   "source": [
    "predictions[0:20]"
   ]
  },
  {
   "cell_type": "code",
   "execution_count": 40,
   "id": "60b91984",
   "metadata": {},
   "outputs": [
    {
     "name": "stdout",
     "output_type": "stream",
     "text": [
      "0.5643076923076923\n"
     ]
    }
   ],
   "source": [
    "acc = np.sum(predictions == y_test) / len(y_test)\n",
    "print(acc)"
   ]
  },
  {
   "cell_type": "markdown",
   "id": "f9b64272",
   "metadata": {},
   "source": [
    "Podemos ver que tanto a normalização para a classificação binária como também para multiclasse deixou as acurácias melhores."
   ]
  },
  {
   "cell_type": "markdown",
   "id": "ac231703",
   "metadata": {},
   "source": [
    "# Aplicação do Random Forest (não normalizado)"
   ]
  },
  {
   "cell_type": "code",
   "execution_count": 41,
   "id": "3f2f7cc7",
   "metadata": {},
   "outputs": [],
   "source": [
    "df = pd.read_csv('winequality.csv', sep = \",\")\n",
    "\n",
    "columnsToInclude = ['fixed acidity', 'volatile acidity', 'citric acid',\n",
    "      'residual sugar', 'chlorides', 'free sulfur dioxide',\n",
    "      'total sulfur dioxide', 'density', 'pH', 'sulphates', 'alcohol',\n",
    "      'quality', 'wine_is_red']\n",
    "df = pd.read_csv('winequality.csv', sep = \",\", usecols=columnsToInclude)\n",
    "\n",
    "#Vamos precisar manter o formato original de x e y como data frames para o código funcionar:\n",
    "xDf = df.drop(columns=['quality'])\n",
    "yDf = df.iloc[:, 11] #Pega so quality\n",
    "\n",
    "xNp = xDf.to_numpy()\n",
    "yNp = yDf.to_numpy()\n",
    "\n",
    "X_train, X_test, y_train, y_test = train_test_split(xNp, yNp, test_size=0.25)"
   ]
  },
  {
   "cell_type": "code",
   "execution_count": 42,
   "id": "4065c820",
   "metadata": {},
   "outputs": [
    {
     "name": "stdout",
     "output_type": "stream",
     "text": [
      "Accuracy: 0.6898461538461539\n"
     ]
    }
   ],
   "source": [
    "#Aplicação do modelo do random forest:\n",
    "rf_model = RandomForestClassifier(n_estimators=100, random_state=42)\n",
    "rf_model.fit(X_train, y_train)\n",
    "\n",
    "y_pred = rf_model.predict(X_test)\n",
    "accuracy = accuracy_score(y_test, y_pred)\n",
    "print(\"Accuracy:\", accuracy)"
   ]
  },
  {
   "cell_type": "code",
   "execution_count": 43,
   "id": "dcbafd6d",
   "metadata": {},
   "outputs": [
    {
     "name": "stdout",
     "output_type": "stream",
     "text": [
      "                 Feature  Importance\n",
      "10               alcohol    0.121724\n",
      "7                density    0.102846\n",
      "1       volatile acidity    0.098018\n",
      "6   total sulfur dioxide    0.093427\n",
      "5    free sulfur dioxide    0.088225\n",
      "9              sulphates    0.085800\n",
      "4              chlorides    0.085650\n",
      "3         residual sugar    0.084716\n",
      "8                     pH    0.083293\n",
      "2            citric acid    0.078528\n",
      "0          fixed acidity    0.074609\n",
      "11           wine_is_red    0.003164\n"
     ]
    }
   ],
   "source": [
    "# Análise de quais features são mais importantes:\n",
    "feature_importance = rf_model.feature_importances_\n",
    "\n",
    "# Trabalhamos com numpy arrays para fazer os calculos, entao precisamos converter para um df novamente\n",
    "X_train_df = pd.DataFrame(X_train, columns=xDf.columns)\n",
    "\n",
    "# Criação de um dataframe para analisar as features:\n",
    "importance_df = pd.DataFrame({'Feature': X_train_df.columns, 'Importance': feature_importance})\n",
    "importance_df = importance_df.sort_values(by='Importance', ascending=False)\n",
    "\n",
    "print(importance_df)"
   ]
  },
  {
   "cell_type": "markdown",
   "id": "3d450bde",
   "metadata": {},
   "source": [
    "# Aplicação do Random Forest normalizado:"
   ]
  },
  {
   "cell_type": "code",
   "execution_count": 44,
   "id": "071928be",
   "metadata": {},
   "outputs": [],
   "source": [
    "df = pd.read_csv('winequality.csv', sep = \",\")\n",
    "\n",
    "columnsToInclude = ['fixed acidity', 'volatile acidity', 'citric acid',\n",
    "      'residual sugar', 'chlorides', 'free sulfur dioxide',\n",
    "      'total sulfur dioxide', 'density', 'pH', 'sulphates', 'alcohol',\n",
    "      'quality', 'wine_is_red']\n",
    "df = pd.read_csv('winequality.csv', sep = \",\", usecols=columnsToInclude)\n",
    "\n",
    "#Vamos precisar manter o formato original de x e y como data frames para o código funcionar:\n",
    "xDf = df.drop(columns=['quality'])\n",
    "yDf = df.iloc[:, 11] #Pega so quality\n",
    "\n",
    "xNp = xDf.to_numpy()\n",
    "yNp = yDf.to_numpy()\n",
    "\n",
    "X_train, X_test, y_train, y_test = train_test_split(xNp, yNp, test_size=0.25)"
   ]
  },
  {
   "cell_type": "code",
   "execution_count": 45,
   "id": "dbb7f0fd",
   "metadata": {},
   "outputs": [],
   "source": [
    "mu = np.mean(X_train, 0)\n",
    "sigma = np.std(X_train, 0)\n",
    "X_train = (X_train - mu ) / sigma\n",
    "\n",
    "mu = np.mean(X_test, 0)\n",
    "sigma = np.std(X_test, 0)\n",
    "X_test = (X_test - mu ) / sigma"
   ]
  },
  {
   "cell_type": "code",
   "execution_count": 46,
   "id": "1dad60a8",
   "metadata": {},
   "outputs": [
    {
     "name": "stdout",
     "output_type": "stream",
     "text": [
      "Accuracy: 0.6886153846153846\n"
     ]
    }
   ],
   "source": [
    "#Aplicação do modelo do random forest:\n",
    "rf_model = RandomForestClassifier(n_estimators=100, random_state=42)\n",
    "rf_model.fit(X_train, y_train)\n",
    "\n",
    "y_pred = rf_model.predict(X_test)\n",
    "accuracy = accuracy_score(y_test, y_pred)\n",
    "print(\"Accuracy:\", accuracy)"
   ]
  },
  {
   "cell_type": "code",
   "execution_count": 47,
   "id": "18790949",
   "metadata": {},
   "outputs": [
    {
     "name": "stdout",
     "output_type": "stream",
     "text": [
      "                 Feature  Importance\n",
      "10               alcohol    0.119809\n",
      "7                density    0.103025\n",
      "1       volatile acidity    0.099193\n",
      "6   total sulfur dioxide    0.091441\n",
      "5    free sulfur dioxide    0.087945\n",
      "9              sulphates    0.087571\n",
      "4              chlorides    0.086595\n",
      "3         residual sugar    0.084639\n",
      "8                     pH    0.083200\n",
      "2            citric acid    0.079571\n",
      "0          fixed acidity    0.073783\n",
      "11           wine_is_red    0.003227\n"
     ]
    }
   ],
   "source": [
    "# Análise de quais features são mais importantes:\n",
    "feature_importance = rf_model.feature_importances_\n",
    "\n",
    "# Trabalhamos com numpy arrays para fazer os calculos, entao precisamos converter para um df novamente\n",
    "X_train_df = pd.DataFrame(X_train, columns=xDf.columns)\n",
    "\n",
    "# Criação de um dataframe para analisar as features:\n",
    "importance_df = pd.DataFrame({'Feature': X_train_df.columns, 'Importance': feature_importance})\n",
    "importance_df = importance_df.sort_values(by='Importance', ascending=False)\n",
    "\n",
    "print(importance_df)"
   ]
  },
  {
   "cell_type": "markdown",
   "id": "94436ca3",
   "metadata": {},
   "source": [
    "Com isso podemos concluir que a normalização tem uma importância muito maior no algorítimo do KNN do que no Random Forest."
   ]
  },
  {
   "cell_type": "code",
   "execution_count": null,
   "id": "a2a373c0",
   "metadata": {},
   "outputs": [],
   "source": []
  }
 ],
 "metadata": {
  "kernelspec": {
   "display_name": "Python 3 (ipykernel)",
   "language": "python",
   "name": "python3"
  },
  "language_info": {
   "codemirror_mode": {
    "name": "ipython",
    "version": 3
   },
   "file_extension": ".py",
   "mimetype": "text/x-python",
   "name": "python",
   "nbconvert_exporter": "python",
   "pygments_lexer": "ipython3",
   "version": "3.9.12"
  }
 },
 "nbformat": 4,
 "nbformat_minor": 5
}
